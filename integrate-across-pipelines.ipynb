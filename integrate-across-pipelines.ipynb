{
 "cells": [
  {
   "cell_type": "code",
   "execution_count": 1,
   "id": "863ef950-ed19-47b3-8af5-bfbeb14de1cc",
   "metadata": {},
   "outputs": [],
   "source": [
    "import os.path\n",
    "\n",
    "import pandas\n",
    "import sourmash\n",
    "from sourmash import sourmash_args"
   ]
  },
  {
   "cell_type": "code",
   "execution_count": 2,
   "id": "7c934140-7168-44de-88eb-906378ac7c50",
   "metadata": {},
   "outputs": [],
   "source": [
    "toplevel = '/home/zyzhao/assemloss/mock/mixD/'\n",
    "grist_dir = toplevel + 'grist/outputs'\n",
    "assembly_dir = toplevel + 'assembly/'\n",
    "atta_dir = toplevel + 'atta/'\n",
    "\n",
    "for path in (toplevel, grist_dir, assembly_dir, atta_dir):\n",
    "    assert os.path.isdir(path), f'{path} is not a directory?'"
   ]
  },
  {
   "cell_type": "code",
   "execution_count": 9,
   "id": "0dc49197-bf01-4723-a060-c378bc51a9e8",
   "metadata": {},
   "outputs": [
    {
     "name": "stdout",
     "output_type": "stream",
     "text": [
      "assembly/unweighted: 52.6%\n",
      "assembly/weighted: 95.3%\n",
      "% k-mers in reads mapped to assembly: 52.6%\n",
      "total ref k-mers found (abund): 96.7\n",
      "total ref k-mers found (flat): 62.9\n",
      "total mapped reads: 6526549\n"
     ]
    }
   ],
   "source": [
    "class MetagenomeInfo:\n",
    "    def __init__(self, metag_acc, *, ksize=31):\n",
    "        self.metag_acc = metag_acc\n",
    "        self.ksize = ksize\n",
    "\n",
    "        self.metag_sig_path = os.path.join(grist_dir, \"sigs\",\n",
    "                                           f\"{self.metag_acc}.trim.sig.zip\")\n",
    "        self.metag_sig = sourmash_args.load_one_signature(self.metag_sig_path, ksize=self.ksize)\n",
    "\n",
    "    def calc_assembly_stuff(self, assembly_dir):\n",
    "        sigfile = os.path.join(assembly_dir, f\"{self.metag_acc}.megahit.fa.gz.sig\")\n",
    "        assert os.path.exists(sigfile), sigfile\n",
    "\n",
    "        self.assembly_sig = sourmash_args.load_one_signature(sigfile, ksize=self.ksize)\n",
    "\n",
    "        # percent of flat k-mers accounted for by assembly\n",
    "        print(f\"assembly/unweighted: {self.metag_sig.contained_by(self.assembly_sig)*100:.1f}%\")\n",
    "\n",
    "        # abundance weighted version:\n",
    "        assembly_mh = self.assembly_sig.minhash.flatten()\n",
    "        metag_mh = self.metag_sig.minhash\n",
    "        intersect = assembly_mh.intersection(metag_mh.flatten()).inflate(metag_mh)\n",
    "\n",
    "        # now sum:\n",
    "        total_weighted_sum = metag_mh.sum_abundances\n",
    "        intersect_weighted_sum = intersect.sum_abundances\n",
    "        print(f\"assembly/weighted: {intersect_weighted_sum / total_weighted_sum * 100:.1f}%\")\n",
    "\n",
    "        sig_mapped = os.path.join(atta_dir, f'{self.metag_acc}.x.ma.fq.gz.sig')\n",
    "        ma_sig = sourmash_args.load_one_signature(sigfile, ksize=self.ksize)\n",
    "        print(f\"% k-mers in reads mapped to assembly: {self.metag_sig.contained_by(ma_sig)*100:.1f}%\")\n",
    "\n",
    "    def calc_ref_based_kmer_stuff(self, grist_dir):\n",
    "        gather_csv = os.path.join(grist_dir, \"gather\", f\"{self.metag_acc}.gather.csv.gz\")\n",
    "        df = pandas.read_csv(gather_csv)\n",
    "        row = df.tail(1).squeeze()\n",
    "        sum_weighted_found = row['sum_weighted_found'] \n",
    "        total_weighted_hashes = row['total_weighted_hashes']\n",
    "        # oops, this is the same as: print(df['f_unique_weighted'].sum())\n",
    "        print(f\"total ref k-mers found (abund): {sum_weighted_found / total_weighted_hashes * 100:.1f}\")\n",
    "        print(f\"total ref k-mers found (flat): {df['f_unique_to_query'].sum() * 100:.1f}\")\n",
    "\n",
    "    def calc_mapping_stuff(self, grist_dir):\n",
    "        leftover_csv = os.path.join(grist_dir, 'leftover',\n",
    "                                    f\"{self.metag_acc}.summary.csv\")\n",
    "        df = pandas.read_csv(leftover_csv)\n",
    "        total_mapped_reads = df['n_mapped_reads'].sum()\n",
    "        print(f\"total mapped reads: {total_mapped_reads}\")\n",
    "        \n",
    "        \n",
    "metag_acc = \"SRR24480607\"\n",
    "info = MetagenomeInfo(metag_acc)\n",
    "\n",
    "info.calc_assembly_stuff(assembly_dir)\n",
    "info.calc_ref_based_kmer_stuff(grist_dir)\n",
    "info.calc_mapping_stuff(grist_dir)"
   ]
  },
  {
   "cell_type": "code",
   "execution_count": null,
   "id": "af8aa8a9-c0d5-43e7-98f7-c3208e0e77ed",
   "metadata": {},
   "outputs": [],
   "source": []
  }
 ],
 "metadata": {
  "kernelspec": {
   "display_name": "jup312",
   "language": "python",
   "name": "jup312"
  },
  "language_info": {
   "codemirror_mode": {
    "name": "ipython",
    "version": 3
   },
   "file_extension": ".py",
   "mimetype": "text/x-python",
   "name": "python",
   "nbconvert_exporter": "python",
   "pygments_lexer": "ipython3",
   "version": "3.12.3"
  }
 },
 "nbformat": 4,
 "nbformat_minor": 5
}
